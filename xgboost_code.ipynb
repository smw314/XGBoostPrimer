{
  "nbformat": 4,
  "nbformat_minor": 0,
  "metadata": {
    "colab": {
      "provenance": [],
      "authorship_tag": "ABX9TyPXmuzMNo4Rj2BjmBR8hi25"
    },
    "kernelspec": {
      "name": "python3",
      "display_name": "Python 3"
    },
    "language_info": {
      "name": "python"
    }
  },
  "cells": [
    {
      "cell_type": "code",
      "execution_count": null,
      "metadata": {
        "id": "R0eVKrvdh_Lc"
      },
      "outputs": [],
      "source": [
        "# load necessary libraries\n",
        "import xgboost as xgb\n",
        "import pandas as pd\n",
        "import numpy as np\n",
        "from sklearn.model_selection import train_test_split\n",
        "from sklearn.metrics import mean_squared_error\n",
        "from sklearn.model_selection import GridSearchCV\n",
        "from sklearn.metrics import accuracy_score\n",
        "from xgboost import plot_importance"
      ]
    },
    {
      "cell_type": "code",
      "source": [
        "# load 2022 data\n",
        "# clean 2022 data"
      ],
      "metadata": {
        "id": "kcy1ASoSir6U"
      },
      "execution_count": null,
      "outputs": []
    },
    {
      "cell_type": "code",
      "source": [
        "# split data into train/test sets\n",
        "xtrain, xtest, ytrain, ytest = train_test_split(X, y, test_size=0.2)"
      ],
      "metadata": {
        "id": "sveahzgnkY42"
      },
      "execution_count": null,
      "outputs": []
    },
    {
      "cell_type": "code",
      "source": [
        "# run algorithm without hyperparameter tuning\n",
        "xgbr = xgb.XGBRegressor(objective='reg:squarederror')\n",
        "xgbr.fit(xtrain, ytrain)"
      ],
      "metadata": {
        "id": "Q_2fpvKtiuhM"
      },
      "execution_count": null,
      "outputs": []
    },
    {
      "cell_type": "code",
      "source": [
        "# calculate the RMSE and accuracy of the algorithm\n",
        "ypred = xgbr.predict(xtest)\n",
        "mse = mean_squared_error(ytest, ypred)\n",
        "print(\"RMSE: %.5f\" % (mse**(1/2.0)))\n",
        "\n",
        "predictions = [round(value) for value in ypred]\n",
        "accuracy = accuracy_score(y_test, predictions)\n",
        "print(\"Accuracy: %.2f%%\" % (accuracy * 100.0))"
      ],
      "metadata": {
        "id": "vOMnCn-di91o"
      },
      "execution_count": null,
      "outputs": []
    },
    {
      "cell_type": "code",
      "source": [
        "# use grid search to tune hyperparameters\n",
        "params = { 'max_depth': [3, 5, 6, 10, 15, 20],\n",
        "           'learning_rate': [0.01, 0.1, 0.2, 0.3],\n",
        "           'subsample': np.arange(0.5, 1.0, 0.1),\n",
        "           'colsample_bytree': np.arange(0.4, 1.0, 0.1),\n",
        "           'colsample_bylevel': np.arange(0.4, 1.0, 0.1),\n",
        "           'n_estimators': [100, 500, 1000]}\n",
        "           \n",
        "xgbr = xgb.XGBRegressor(seed = 20)\n",
        "clf = GridSearchCV(estimator=xgbr, \n",
        "                   param_grid=params,\n",
        "                   scoring='neg_mean_squared_error', \n",
        "                   verbose=1)\n",
        "clf.fit(X, y)\n",
        "print(\"Best parameters:\", clf.best_params_)\n",
        "print(\"Lowest RMSE: \", (-clf.best_score_)**(1/2.0))"
      ],
      "metadata": {
        "id": "kkYdsZYwjgTW"
      },
      "execution_count": null,
      "outputs": []
    },
    {
      "cell_type": "code",
      "source": [
        "# update algorithm with tuned hyperparameters\n",
        "xgb1 = xgb.XGBClassifier(\n",
        " learning_rate = 0.05,\n",
        " n_estimators= 150,\n",
        " max_depth=3,\n",
        " colsample_bytree=0.8,\n",
        " objective= 'reg:squarederror',\n",
        " seed=20)\n",
        "\n",
        "xgb1.fit(xtrain, ytrain)"
      ],
      "metadata": {
        "id": "bxs1_1eljyen"
      },
      "execution_count": null,
      "outputs": []
    },
    {
      "cell_type": "code",
      "source": [
        "# calculate the RMSE and accuracy of the updated algorithm\n",
        "ypred = xgb1.predict(xtest)\n",
        "mse = mean_squared_error(ytest, ypred)\n",
        "print(\"RMSE: %.5f\" % (mse**(1/2.0)))\n",
        "\n",
        "predictions = [round(value) for value in predictions]\n",
        "accuracy = accuracy_score(ytest, ypred)\n",
        "print(\"Accuracy: %.2f%%\" % (accuracy * 100.0))"
      ],
      "metadata": {
        "id": "QYemW7mYkCWw"
      },
      "execution_count": null,
      "outputs": []
    },
    {
      "cell_type": "code",
      "source": [
        "# plot feature importance of model\n",
        "plot_importance(xgb1)"
      ],
      "metadata": {
        "id": "uDw4nAd8k-WG"
      },
      "execution_count": null,
      "outputs": []
    },
    {
      "cell_type": "code",
      "source": [
        "# load 2023 Spring Training data\n",
        "# clean 2023 Spring Training data"
      ],
      "metadata": {
        "id": "RJKLYg5JkeCp"
      },
      "execution_count": null,
      "outputs": []
    },
    {
      "cell_type": "code",
      "source": [
        "# use model to predict results for 2023 Spring Training data\n",
        "ST_pred = xgb1.predict(dfST)"
      ],
      "metadata": {
        "id": "9qSVZIb6kiKh"
      },
      "execution_count": null,
      "outputs": []
    }
  ]
}